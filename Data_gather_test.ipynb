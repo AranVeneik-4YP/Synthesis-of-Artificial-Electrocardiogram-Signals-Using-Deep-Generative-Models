{
  "nbformat": 4,
  "nbformat_minor": 0,
  "metadata": {
    "colab": {
      "name": "Data_gather_test.ipynb",
      "provenance": []
    },
    "kernelspec": {
      "display_name": "Python 3",
      "name": "python3"
    }
  },
  "cells": [
    {
      "cell_type": "code",
      "metadata": {
        "id": "NdQUCDthtsk_"
      },
      "source": [
        "from google.colab import drive\n",
        "drive.mount(\"/content/gdrive\")\n",
        "\n",
        "import numpy as np\n"
      ],
      "execution_count": null,
      "outputs": []
    },
    {
      "cell_type": "code",
      "metadata": {
        "id": "ooMJZ7IgnypX"
      },
      "source": [
        "import os\n",
        "import xml.etree.ElementTree as ET\n",
        "import pandas as pd\n",
        "import numpy as np\n",
        "\n",
        "df1 = pd.DataFrame()\n",
        "df2 = pd.DataFrame()\n",
        "df3 = pd.DataFrame()\n",
        "df4 = pd.DataFrame()\n",
        "df5 = pd.DataFrame()\n",
        "df6 = pd.DataFrame()\n",
        "df7 = pd.DataFrame()\n",
        "df8 = pd.DataFrame()\n",
        "df9 = pd.DataFrame()\n",
        "df10 = pd.DataFrame()\n",
        "df11 = pd.DataFrame()\n",
        "df12 = pd.DataFrame()\n",
        "\n",
        "directory = ''\n",
        "N = 0\n",
        "for filename in os.listdir(directory):\n",
        "    if filename.endswith(\".xml\"): \n",
        "      \n",
        "      file = str(filename)\n",
        "      p = ''\n",
        "      f = p + file\n",
        "      #print(f)\n",
        "      tree = ET.parse(f)\n",
        "      root = tree.getroot()\n",
        "      wf_short = pd.DataFrame()\n",
        "      wf_long = pd.DataFrame()\n",
        "      i=0\n",
        "      for WaveformData in root.iter('WaveformData'):\n",
        "        L = list(map(int, WaveformData.text.split(',')))\n",
        "        if i<12:\n",
        "          wf_short[i] = L\n",
        "        else:\n",
        "          wf_long[i-12] = L\n",
        "        i=i+1\n",
        "      \n",
        "      arr1 = wf_short[0]\n",
        "      arr2 = wf_short[1]\n",
        "      arr3 = wf_short[2]\n",
        "      arr4 = wf_short[3]\n",
        "      arr5 = wf_short[4]\n",
        "      arr6 = wf_short[5]\n",
        "      arr7 = wf_short[6]\n",
        "      arr8 = wf_short[7]\n",
        "      arr9 = wf_short[8]\n",
        "      arr10 = wf_short[9]\n",
        "      arr11 = wf_short[10]\n",
        "      arr12 = wf_short[11]\n",
        "      df1[N] = arr1[100:500]\n",
        "      df2[N] = arr2[100:500]\n",
        "      df3[N] = arr3[100:500]\n",
        "      df4[N] = arr4[100:500]\n",
        "      df5[N] = arr5[100:500]\n",
        "      df6[N] = arr6[100:500]\n",
        "      df7[N] = arr7[100:500]\n",
        "      df8[N] = arr8[100:500]\n",
        "      df9[N] = arr9[100:500]\n",
        "      df10[N] = arr10[100:500]\n",
        "      df11[N] = arr11[100:500]\n",
        "      df12[N] = arr12[100:500]\n",
        "      N = N+1"
      ],
      "execution_count": null,
      "outputs": []
    },
    {
      "cell_type": "code",
      "metadata": {
        "id": "2bx40xstaSsx"
      },
      "source": [
        "ECG_Real_1 = np.zeros((400,1000))\n",
        "ECG_Real_2 = np.zeros((400,1000))\n",
        "ECG_Real_3 = np.zeros((400,1000))\n",
        "ECG_Real_4 = np.zeros((400,1000))\n",
        "ECG_Real_5 = np.zeros((400,1000))\n",
        "ECG_Real_6 = np.zeros((400,1000))\n",
        "ECG_Real_7 = np.zeros((400,1000))\n",
        "ECG_Real_8 = np.zeros((400,1000))\n",
        "ECG_Real_9 = np.zeros((400,1000))\n",
        "ECG_Real_10 = np.zeros((400,1000))\n",
        "ECG_Real_11 = np.zeros((400,1000))\n",
        "ECG_Real_12 = np.zeros((400,1000))\n",
        "\n",
        "for i in range(1000):\n",
        "  ECG_Real_1[:,i] = df1[i]\n",
        "  ECG_Real_2[:,i] = df2[i]\n",
        "  ECG_Real_3[:,i] = df3[i]\n",
        "  ECG_Real_4[:,i] = df4[i]\n",
        "  ECG_Real_5[:,i] = df5[i]\n",
        "  ECG_Real_6[:,i] = df6[i]\n",
        "  ECG_Real_7[:,i] = df7[i]\n",
        "  ECG_Real_8[:,i] = df8[i]\n",
        "  ECG_Real_9[:,i] = df9[i]\n",
        "  ECG_Real_10[:,i] = df10[i]\n",
        "  ECG_Real_11[:,i] = df11[i]\n",
        "  ECG_Real_12[:,i] = df12[i]\n",
        "  \n"
      ],
      "execution_count": null,
      "outputs": []
    },
    {
      "cell_type": "code",
      "metadata": {
        "id": "RITaeGBeTXsk"
      },
      "source": [
        "np.save('', ECG_Real_1)\n",
        "np.save('', ECG_Real_2)\n",
        "np.save('', ECG_Real_3)\n",
        "np.save('', ECG_Real_4)\n",
        "np.save('', ECG_Real_5)\n",
        "np.save('', ECG_Real_6)\n",
        "np.save('', ECG_Real_7)\n",
        "np.save('', ECG_Real_8)\n",
        "np.save('', ECG_Real_9)\n",
        "np.save('', ECG_Real_10)\n",
        "np.save('', ECG_Real_11)\n",
        "np.save('', ECG_Real_12)\n",
        "\n",
        "\n"
      ],
      "execution_count": null,
      "outputs": []
    },
    {
      "cell_type": "code",
      "metadata": {
        "id": "nD-E7eu7Vk9d"
      },
      "source": [
        "import matplotlib.pyplot as plt\n",
        "for x in range(1000):\n",
        "  # x = np.random.randint(1000)\n",
        "  plt.figure()\n",
        "  plt.grid()\n",
        "  plt.xlim((0,400))\n",
        "  plt.xlabel('Timestep')\n",
        "  plt.ylabel('Amplitude(mV)')\n",
        "  #plt.plot(ECG_Real_1[:,x])\n",
        "  plt.plot(ECG_Real_2[:,x])\n",
        "  plt.figure()\n",
        "  y = [x,x,x,x,x]\n",
        "  l = [0,1,2,3,4,5]\n",
        "  X = x+5\n",
        "  z = x-5\n",
        "  plt.xlim((z,X))\n",
        "  plt.plot((1,x))\n",
        "  # plt.plot(ECG_Real_3[x,:])\n",
        "  # plt.plot(ECG_Real_4[x,:])\n",
        "  # plt.plot(ECG_Real_5[x,:])\n",
        "  # plt.plot(ECG_Real_6[x,:])\n",
        "  # plt.plot(ECG_Real_7[x,:])\n",
        "  # plt.plot(ECG_Real_8[x,:])\n",
        "  # plt.plot(ECG_Real_9[x,:])\n",
        "  # plt.plot(ECG_Real_10[x,:])\n",
        "  # plt.plot(ECG_Real_11[x,:])\n",
        "  # plt.plot(ECG_Real_12[x,:])"
      ],
      "execution_count": null,
      "outputs": []
    }
  ]
}