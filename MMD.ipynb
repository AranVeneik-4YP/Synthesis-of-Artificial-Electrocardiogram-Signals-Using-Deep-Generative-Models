{
  "nbformat": 4,
  "nbformat_minor": 0,
  "metadata": {
    "colab": {
      "name": "MMD.ipynb",
      "provenance": [],
      "collapsed_sections": []
    },
    "kernelspec": {
      "name": "python3",
      "display_name": "Python 3"
    },
    "language_info": {
      "name": "python"
    }
  },
  "cells": [
    {
      "cell_type": "markdown",
      "metadata": {
        "id": "DyMUbqdAaK4c"
      },
      "source": [
        "Credit for the source of the code to https://github.com/pren1/keras-MMD-Variational-Autoencoder"
      ]
    },
    {
      "cell_type": "code",
      "metadata": {
        "id": "JlnXqcAR7Jry"
      },
      "source": [
        "import tensorflow as tf\n",
        "\n",
        "def compute_kernel(x, y):\n",
        "    x_size = tf.shape(x)[0]\n",
        "    y_size = tf.shape(y)[0]\n",
        "    dim = tf.shape(x)[1]\n",
        "    tiled_x = tf.tile(tf.reshape(x, tf.stack([x_size, 1, dim])), tf.stack([1, y_size, 1]))\n",
        "    tiled_y = tf.tile(tf.reshape(y, tf.stack([1, y_size, dim])), tf.stack([x_size, 1, 1]))\n",
        "    return tf.exp(-tf.reduce_mean(tf.square(tiled_x - tiled_y), axis=2) / tf.cast(dim, tf.float64))\n",
        "\n",
        "def compute_mmd(x, y, sigma_sqr=1.0):\n",
        "    x_kernel = compute_kernel(x, x)\n",
        "    y_kernel = compute_kernel(y, y)\n",
        "    xy_kernel = compute_kernel(x, y)\n",
        "    return tf.reduce_mean(x_kernel) + tf.reduce_mean(y_kernel) - 2 * tf.reduce_mean(xy_kernel)"
      ],
      "execution_count": null,
      "outputs": []
    },
    {
      "cell_type": "code",
      "metadata": {
        "id": "Uru8mn7p7T6l"
      },
      "source": [
        "\n",
        "def mmd_loss():\n",
        "\n",
        "  real_data_set =  ...\n",
        "  idx = np.random.randint(0, 1000, 800)\n",
        "  real_data = real_data_set[:,idx]\n",
        "\n",
        "\n",
        "  fake_data = np.zeros((400,800))\n",
        "  data = np.zeros(400)\n",
        "  for i in range(800):\n",
        "    noise = tf.random.normal([400,1])\n",
        "    noise1 = tf.expand_dims(noise, axis=0)\n",
        "\n",
        "    ecgs = generator.predict(noise1)\n",
        "\n",
        "    denorm_ecgs = ecgs * norm_value\n",
        "\n",
        "    for j in range(400):\n",
        "      data[j] = denorm_ecgs[0,j]\n",
        "    fake_data[:,i] = data\n",
        "\n",
        "\n",
        "  real_data = np.transpose(real_data)\n",
        "  fake_data = np.transpose(fake_data)\n",
        "\n",
        "  mmd_loss = compute_mmd(real_data,fake_data)\n",
        "\n",
        "  return mmd_loss"
      ],
      "execution_count": null,
      "outputs": []
    },
    {
      "cell_type": "markdown",
      "metadata": {
        "id": "Dn-FkpX5aJ4l"
      },
      "source": [
        ""
      ]
    }
  ]
}